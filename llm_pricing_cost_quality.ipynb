{
  "nbformat": 4,
  "nbformat_minor": 0,
  "metadata": {
    "colab": {
      "provenance": [],
      "name": "llm-pricing-cost-quality.ipynb",
      "collapsed_sections": [
        "JsteEDfSVUBm",
        "zFe3tjfOWoF0",
        "HM3pGWkRDvrJ"
      ],
      "include_colab_link": true
    },
    "kernelspec": {
      "name": "python3",
      "display_name": "Python 3"
    },
    "language_info": {
      "name": "python"
    }
  },
  "cells": [
    {
      "cell_type": "markdown",
      "metadata": {
        "id": "view-in-github",
        "colab_type": "text"
      },
      "source": [
        "<a href=\"https://colab.research.google.com/github/ship9599/AI_TP/blob/main/llm_pricing_cost_quality.ipynb\" target=\"_parent\"><img src=\"https://colab.research.google.com/assets/colab-badge.svg\" alt=\"Open In Colab\"/></a>"
      ]
    },
    {
      "cell_type": "markdown",
      "source": [
        "# The Evaluation Dataset"
      ],
      "metadata": {
        "id": "JsteEDfSVUBm"
      }
    },
    {
      "cell_type": "code",
      "source": [
        "import getpass\n",
        "import os\n",
        "import time\n",
        "\n",
        "financial_statements = {\n",
        "  \"income_statements\": [\n",
        "    {\n",
        "      \"period\": \"FY2023\",\n",
        "      \"revenue\": 9917000000,\n",
        "      \"cost_of_revenue\": 1703000000,\n",
        "      \"general_and_administrative_expense\": 2025000000,\n",
        "      \"research_and_development_expense\": 1722000000,\n",
        "      \"selling_and_marketing_expense\": 1763000000,\n",
        "      \"operating_income_loss\": 1518000000,\n",
        "      \"net_income_loss\": 4792000000\n",
        "    },\n",
        "    {\n",
        "      \"period\": \"FY2022\",\n",
        "      \"revenue\": 8399000000,\n",
        "      \"cost_of_revenue\": 1499000000,\n",
        "      \"general_and_administrative_expense\": 950000000,\n",
        "      \"research_and_development_expense\": 1502000000,\n",
        "      \"selling_and_marketing_expense\": 1516000000,\n",
        "      \"operating_income_loss\": 1802000000,\n",
        "      \"net_income_loss\": 1893000000\n",
        "    },\n",
        "    {\n",
        "      \"period\": \"FY2021\",\n",
        "      \"revenue\": 5992000000,\n",
        "      \"cost_of_revenue\": 1156000000,\n",
        "      \"general_and_administrative_expense\": 836000000,\n",
        "      \"research_and_development_expense\": 1425000000,\n",
        "      \"selling_and_marketing_expense\": 1186000000,\n",
        "      \"operating_income_loss\": 429000000,\n",
        "      \"net_income_loss\": -352000000\n",
        "    }\n",
        "  ],\n",
        "  \"balance_sheets\": [\n",
        "    {\n",
        "      \"period\": \"FY2023\",\n",
        "      \"cash_and_cash_equivalents\": 7378000000,\n",
        "      \"short_term_investments\": 2244000000,\n",
        "      \"total_current_assets\": 14861000000,\n",
        "      \"goodwill\": 650000000,\n",
        "      \"total_assets\": 16038000000,\n",
        "      \"current_accrued_liabilities\": 2654000000,\n",
        "      \"current_accounts_payable\": 137000000,\n",
        "      \"long_term_debt\": 1987000000,\n",
        "      \"operating_lease_liabilities\": 295000000,\n",
        "      \"other_non_current_liabilities\": 218000000,\n",
        "      \"total_liabilities\": 10478000000,\n",
        "      \"stockholders_equity\": 5560000000\n",
        "    },\n",
        "    {\n",
        "      \"period\": \"FY2022\",\n",
        "      \"cash_and_cash_equivalents\": 6067000000,\n",
        "      \"short_term_investments\": 2255000000,\n",
        "      \"total_current_assets\": 12386000000,\n",
        "      \"goodwill\": 656000000,\n",
        "      \"total_assets\": 13708000000,\n",
        "      \"current_accrued_liabilities\": 6359000000,\n",
        "      \"current_accounts_payable\": 118000000,\n",
        "      \"long_term_debt\": 1983000000,\n",
        "      \"operating_lease_liabilities\": 372000000,\n",
        "      \"other_non_current_liabilities\": 219000000,\n",
        "      \"total_liabilities\": 8933000000,\n",
        "      \"stockholders_equity\": 4775000000\n",
        "    },\n",
        "    {\n",
        "      \"period\": \"FY2021\",\n",
        "      \"cash_and_cash_equivalents\": 2013547000,\n",
        "      \"short_term_investments\": 910700000,\n",
        "      \"total_current_assets\": 8916386000,\n",
        "      \"goodwill\": 652088000,\n",
        "      \"total_assets\": 10491499000,\n",
        "      \"current_accrued_liabilities\": 5139779000,\n",
        "      \"current_accounts_payable\": 79898000,\n",
        "      \"long_term_debt\": 1815562000,\n",
        "      \"operating_lease_liabilities\": 56586000,\n",
        "      \"other_non_current_liabilities\": 203470000,\n",
        "      \"total_liabilities\": 7589716000,\n",
        "      \"stockholders_equity\": 2901783000\n",
        "    }\n",
        "  ],\n",
        "  \"cash_flow_statements\": [\n",
        "    {\n",
        "      \"period\": \"FY2023\",\n",
        "      \"net_income\": 4792000000,\n",
        "      \"depreciation_and_amortization\": 138000000,\n",
        "      \"shared_based_compensation\": 1120000000,\n",
        "      \"net_cash_from_operating_activities\": 3884000000,\n",
        "      \"net_cash_from_investing_activities\": -1042000000,\n",
        "      \"plant_property_and_equipment\": 160000000,\n",
        "      \"net_cash_from_financing_activities\": -2430000000\n",
        "    },\n",
        "    {\n",
        "      \"period\": \"FY2022\",\n",
        "      \"net_income\": 1893000000,\n",
        "      \"depreciation_and_amortization\": 81000000,\n",
        "      \"shared_based_compensation\": 899000000,\n",
        "      \"net_cash_from_operating_activities\": 3430000000,\n",
        "      \"net_cash_from_investing_activities\": -28000000,\n",
        "      \"plant_property_and_equipment\": 25000000,\n",
        "      \"net_cash_from_financing_activities\": -689000000\n",
        "    },\n",
        "    {\n",
        "      \"period\": \"FY2021\",\n",
        "      \"net_income\": -674339000,\n",
        "      \"depreciation_and_amortization\": 125876000,\n",
        "      \"shared_based_compensation\": 3001948000,\n",
        "      \"net_cash_from_operating_activities\": 2189694000,\n",
        "      \"net_cash_from_investing_activities\": -1351955000,\n",
        "      \"plant_property_and_equipment\": 125452000,\n",
        "      \"net_cash_from_financing_activities\": 1431159000\n",
        "    }\n",
        "  ]\n",
        "}"
      ],
      "metadata": {
        "id": "WIz7piOiVZMV"
      },
      "execution_count": null,
      "outputs": []
    },
    {
      "cell_type": "markdown",
      "source": [
        "# Implement LLM-as-Judge using Opus"
      ],
      "metadata": {
        "id": "zFe3tjfOWoF0"
      }
    },
    {
      "cell_type": "code",
      "source": [
        "!pip install -U -q instructor xmltodict anthropic"
      ],
      "metadata": {
        "id": "Fkqcf8GYWquO"
      },
      "execution_count": null,
      "outputs": []
    },
    {
      "cell_type": "code",
      "source": [
        "os.environ[\"ANTHROPIC_API_KEY\"] = getpass.getpass()"
      ],
      "metadata": {
        "id": "02OtzmQmdaSX"
      },
      "execution_count": null,
      "outputs": []
    },
    {
      "cell_type": "code",
      "source": [
        "import anthropic\n",
        "import instructor\n",
        "from pydantic import BaseModel\n",
        "from pydantic import Field\n",
        "from enum import Enum\n",
        "from typing import Optional, Union, List\n",
        "\n",
        "# Patching the Anthropics client with the instructor for enhanced capabilities\n",
        "anthropic_client = instructor.patch(\n",
        "    create=anthropic.Anthropic().messages.create,\n",
        "    mode=instructor.Mode.ANTHROPIC_TOOLS\n",
        ")\n",
        "\n",
        "class EvaluationResult(BaseModel):\n",
        "    is_correct: Optional[bool]\n",
        "\n",
        "def evaluate_result(task: str, extracted_value: str) -> EvaluationResult:\n",
        "    prompt = f\"\"\"\n",
        "    You are an expert at evaluating whether an extracted value is correct or incorrect for a given task.\n",
        "    The task that you are evaluating is JSON key-value extraction and financial calculations.\n",
        "    The JSON contains financial statements, including income statements, balance sheets, and cash flow statements.\n",
        "    Your job is to determine (True or False) if the extracted value or calculated result is correct for a given task.\n",
        "    For example, if the task is to extract net_income from the JSON and the correct value is 10000, but the extracted value is 1000, then your output is False. However, if the extracted value is 10000, then your output is True.\n",
        "    Note: The extracted values and calculated results may include both text and numbers/metrics. Your job is to focus only on the numbers/metrics and ensure that they match the ground truth values.\n",
        "    Here are the ground truth values for the requested tasks:\n",
        "    1. Revenue (FY2023): 9917000000\n",
        "    2. Net Income Loss (FY2023): 4792000000\n",
        "    3. Net Profit Margin (FY2023): 48.32%\n",
        "    4. Total Assets (FY2023): 16038000000\n",
        "    5. Total Liabilities (FY2023): 10478000000\n",
        "    6. Debt-to-Assets Ratio (FY2023): 0.65\n",
        "    7. Net Income (FY2023): 4792000000\n",
        "    8. Plant, Property, and Equipment (FY2023): 160000000\n",
        "    9. Free Cash Flow (FY2023): 4632000000\n",
        "    \"\"\"\n",
        "\n",
        "    evaluation_result = anthropic_client(\n",
        "        model=\"claude-3-opus-20240229\",\n",
        "        max_tokens=1024,\n",
        "        max_retries=0,\n",
        "        temperature=0.0,\n",
        "        system=prompt,\n",
        "        messages=[\n",
        "            {\n",
        "                \"role\": \"user\",\n",
        "                \"content\": f\"Evaluate whether the output is correct or incorrect. Task: {task} Extracted value: {extracted_value}\",\n",
        "            }\n",
        "        ],\n",
        "        response_model=EvaluationResult,\n",
        "    )\n",
        "\n",
        "    return evaluation_result"
      ],
      "metadata": {
        "id": "LrPhihP_Xzuv"
      },
      "execution_count": null,
      "outputs": []
    },
    {
      "cell_type": "markdown",
      "source": [
        "# Experimentation setup"
      ],
      "metadata": {
        "id": "HM3pGWkRDvrJ"
      }
    },
    {
      "cell_type": "code",
      "source": [
        "def calculate_cost_per_token(cost_per_million_tokens):\n",
        "    cost_per_token = cost_per_million_tokens / 1_000_000\n",
        "    return cost_per_token"
      ],
      "metadata": {
        "id": "XQpkEeenVs8N"
      },
      "execution_count": null,
      "outputs": []
    },
    {
      "cell_type": "code",
      "source": [
        "system_prompt = \"\"\"\n",
        "You are an expert at extracting key-value pairs from JSON and performing financial calculations.\n",
        "The JSON contains financial statements, including income statements, balance sheets, and cash flow statements.\n",
        "Your task is to extract specific values from the most recent fiscal year (FY2023) and perform the requested calculations.\n",
        "Be concise, accurate, and correct in your answer. Present the results in a clear and structured format.\n",
        "\"\"\"\n",
        "\n",
        "message = f\"\"\"\n",
        "Given the following JSON financial data: {financial_statements}\n",
        "\n",
        "Please complete the following tasks for the most recent fiscal year (FY2023):\n",
        "\n",
        "1. Extract the \"revenue\" value from the \"income_statements\".\n",
        "2. Extract the \"net_income_loss\" value from the \"income_statements\".\n",
        "3. Calculate the net profit margin by dividing the \"net_income_loss\" by the \"revenue\" and express the result as a percentage rounded to two decimal places.\n",
        "4. Extract the \"total_assets\" value from the \"balance_sheets\".\n",
        "5. Extract the \"total_liabilities\" value from the \"balance_sheets\".\n",
        "6. Calculate the debt-to-assets ratio by dividing the \"total_liabilities\" by the \"total_assets\" and round the result to two decimal places.\n",
        "7. Extract the \"net_income\" value from the \"cash_flow_statements\".\n",
        "8. Extract the \"plant_property_and_equipment\" value from the \"cash_flow_statements\".\n",
        "9. Calculate the free cash flow by subtracting the \"plant_property_and_equipment\" from the \"net_income\".\n",
        "\n",
        "Present the extracted values and the calculated results in a clear and structured format.\n",
        "\"\"\""
      ],
      "metadata": {
        "id": "XR6pWsaVWNde"
      },
      "execution_count": null,
      "outputs": []
    },
    {
      "cell_type": "markdown",
      "source": [
        "# Groq"
      ],
      "metadata": {
        "id": "jVZXLIXkCSK5"
      }
    },
    {
      "cell_type": "code",
      "execution_count": null,
      "metadata": {
        "id": "_GuSmv7tA4Q3"
      },
      "outputs": [],
      "source": [
        "!pip install -U -q groq"
      ]
    },
    {
      "cell_type": "code",
      "source": [
        "import getpass\n",
        "import os\n",
        "\n",
        "# Set your Groq API key\n",
        "os.environ[\"GROQ_API_KEY\"] = getpass.getpass()"
      ],
      "metadata": {
        "id": "-rc4OIWRA-gD"
      },
      "execution_count": null,
      "outputs": []
    },
    {
      "cell_type": "code",
      "source": [
        "import os\n",
        "import time\n",
        "\n",
        "from groq import Groq\n",
        "\n",
        "client = Groq(api_key=os.environ.get(\"GROQ_API_KEY\"))\n",
        "\n",
        "start_time = time.time()\n",
        "\n",
        "def call_groq(query: str, model_name: str):\n",
        "  return client.chat.completions.create(\n",
        "      messages=[\n",
        "          {\n",
        "              \"role\": \"system\",\n",
        "              \"content\": system_prompt,\n",
        "          },\n",
        "          {\n",
        "              \"role\": \"user\",\n",
        "              \"content\": message,\n",
        "          },\n",
        "      ],\n",
        "      max_tokens=1000,\n",
        "      temperature=0.0,\n",
        "      model=model_name,\n",
        "  )"
      ],
      "metadata": {
        "id": "bClwZYUWBImn"
      },
      "execution_count": null,
      "outputs": []
    },
    {
      "cell_type": "code",
      "source": [
        "# Define cost map\n",
        "model_costs = {\n",
        "    \"mixtral-8x7b-32768\": {\n",
        "        \"input_tokens\": 0.27,\n",
        "        \"output_tokens\": 0.27,\n",
        "    },\n",
        "}"
      ],
      "metadata": {
        "id": "sgGOoaR6egea"
      },
      "execution_count": null,
      "outputs": []
    },
    {
      "cell_type": "code",
      "source": [
        "for model_name, costs in model_costs.items():\n",
        "    num_iterations = 10\n",
        "    total_time = 0\n",
        "    total_output_tokens = 0\n",
        "    total_cost = 0\n",
        "    evaluation_results = []\n",
        "\n",
        "    for i in range(num_iterations):\n",
        "        # Call the model\n",
        "        start = time.time()\n",
        "        response = call_groq(message, model_name=model_name)\n",
        "        end = time.time()\n",
        "\n",
        "        # Evaluate the result\n",
        "        evaulation_result = evaluate_result(\n",
        "            task=message,\n",
        "            extracted_value=response.choices[0].message.content,\n",
        "        )\n",
        "        evaluation_results.append(evaulation_result)\n",
        "\n",
        "        # Calculate costs\n",
        "        input_cost = calculate_cost_per_token(costs[\"input_tokens\"])\n",
        "        output_cost = calculate_cost_per_token(costs[\"output_tokens\"])\n",
        "        input_tokens = response.usage.prompt_tokens\n",
        "        output_tokens = response.usage.completion_tokens\n",
        "        iteration_cost = (input_tokens * input_cost) + (output_tokens * output_cost)\n",
        "\n",
        "        # Calculate time\n",
        "        iteration_time = end - start\n",
        "\n",
        "        # Calculate totals\n",
        "        total_time += iteration_time\n",
        "        total_output_tokens += output_tokens\n",
        "        total_cost += iteration_cost\n",
        "\n",
        "        # Prevent rate limiting\n",
        "        time.sleep(1)\n",
        "\n",
        "    avg_tokens_per_second = total_output_tokens / total_time\n",
        "    avg_cost = total_cost / num_iterations\n",
        "\n",
        "    print(f\"Model: {model_name}\")\n",
        "    print(f\"Average tokens per second: {avg_tokens_per_second:.2f}\")\n",
        "    print(f\"Average total cost: ${avg_cost:.5f}\")\n",
        "    print(f\"Evaluation results: {evaluation_results}\")\n",
        "    print()"
      ],
      "metadata": {
        "id": "ll1wBu1Fesj9"
      },
      "execution_count": null,
      "outputs": []
    },
    {
      "cell_type": "markdown",
      "source": [
        "# Anthropic"
      ],
      "metadata": {
        "id": "i59xmua5CT_Y"
      }
    },
    {
      "cell_type": "markdown",
      "source": [
        "## Define code to call model"
      ],
      "metadata": {
        "id": "0SSh_iWSZNaS"
      }
    },
    {
      "cell_type": "code",
      "source": [
        "from anthropic import Anthropic\n",
        "\n",
        "client = Anthropic(api_key=os.environ.get(\"ANTHROPIC_API_KEY\"))\n",
        "\n",
        "def call_anthropic(query: str, model_name: str) -> str:\n",
        "  return client.messages.create(\n",
        "      temperature=0.0,\n",
        "      max_tokens=1000,\n",
        "      messages=[\n",
        "          {\n",
        "              \"role\": \"user\",\n",
        "              \"content\": message,\n",
        "          },\n",
        "      ],\n",
        "      model=model_name,\n",
        "  )"
      ],
      "metadata": {
        "id": "vpqQ254xCVQn"
      },
      "execution_count": null,
      "outputs": []
    },
    {
      "cell_type": "markdown",
      "source": [
        "## Calculate cost and speed"
      ],
      "metadata": {
        "id": "S1_IYnXLVzib"
      }
    },
    {
      "cell_type": "code",
      "source": [
        "# Define cost map\n",
        "model_costs = {\n",
        "    \"claude-3-haiku-20240307\": {\n",
        "        \"input_tokens\": 0.25,\n",
        "        \"output_tokens\": 1.25,\n",
        "    },\n",
        "    \"claude-3-sonnet-20240229\": {\n",
        "        \"input_tokens\": 3.00,\n",
        "        \"output_tokens\": 15.00,\n",
        "    },\n",
        "    \"claude-3-opus-20240229\": {\n",
        "        \"input_tokens\": 15.00,\n",
        "        \"output_tokens\": 75.00,\n",
        "    },\n",
        "}"
      ],
      "metadata": {
        "id": "pWkU3K_vX04J"
      },
      "execution_count": null,
      "outputs": []
    },
    {
      "cell_type": "code",
      "source": [
        "for model_name, costs in model_costs.items():\n",
        "    num_iterations = 10\n",
        "    total_time = 0\n",
        "    total_output_tokens = 0\n",
        "    total_cost = 0\n",
        "    evaluation_results = []\n",
        "\n",
        "    for i in range(num_iterations):\n",
        "        # Call the model\n",
        "        start = time.time()\n",
        "        response = call_anthropic(message, model_name=model_name)\n",
        "        end = time.time()\n",
        "\n",
        "        # Evaluate the result\n",
        "        evaulation_result = evaluate_result(\n",
        "            task=message,\n",
        "            extracted_value=response.content,\n",
        "        )\n",
        "        evaluation_results.append(evaulation_result)\n",
        "\n",
        "        # Calculate costs\n",
        "        input_cost = calculate_cost_per_token(costs[\"input_tokens\"])\n",
        "        output_cost = calculate_cost_per_token(costs[\"output_tokens\"])\n",
        "        input_tokens = response.usage.input_tokens\n",
        "        output_tokens = response.usage.output_tokens\n",
        "        iteration_cost = (input_tokens * input_cost) + (output_tokens * output_cost)\n",
        "\n",
        "        # Calculate time\n",
        "        iteration_time = end - start\n",
        "\n",
        "        # Calculate totals\n",
        "        total_time += iteration_time\n",
        "        total_output_tokens += output_tokens\n",
        "        total_cost += iteration_cost\n",
        "\n",
        "        # Prevent rate limiting\n",
        "        time.sleep(1)\n",
        "\n",
        "    avg_tokens_per_second = total_output_tokens / total_time\n",
        "    avg_cost = total_cost / num_iterations\n",
        "\n",
        "    print(f\"Model: {model_name}\")\n",
        "    print(f\"Average tokens per second: {avg_tokens_per_second:.2f}\")\n",
        "    print(f\"Average total cost: ${avg_cost:.5f}\")\n",
        "    print(f\"Evaluation results: {evaluation_results}\")\n",
        "    print()"
      ],
      "metadata": {
        "id": "BWx21JRaFxLp"
      },
      "execution_count": null,
      "outputs": []
    },
    {
      "cell_type": "markdown",
      "source": [
        "# Cohere"
      ],
      "metadata": {
        "id": "45bTQ0QECWKD"
      }
    },
    {
      "cell_type": "code",
      "source": [
        "!pip install -U -q cohere"
      ],
      "metadata": {
        "id": "zg0pCsqdCW83"
      },
      "execution_count": null,
      "outputs": []
    },
    {
      "cell_type": "code",
      "source": [
        "# Set your Cohere API key\n",
        "os.environ[\"COHERE_API_KEY\"] = getpass.getpass()"
      ],
      "metadata": {
        "id": "OoY0cV2JZZ6-"
      },
      "execution_count": null,
      "outputs": []
    },
    {
      "cell_type": "code",
      "source": [
        "import cohere\n",
        "\n",
        "# Get your cohere API key on: www.cohere.com\n",
        "co = cohere.Client(os.environ[\"COHERE_API_KEY\"])\n",
        "\n",
        "def call_cohere(query: str, model_name: str) -> str:\n",
        "  return co.chat(\n",
        "      message=query,\n",
        "      max_tokens=1000,\n",
        "      temperature=0.0,\n",
        "  )"
      ],
      "metadata": {
        "id": "dmOlMgkvZeSW"
      },
      "execution_count": null,
      "outputs": []
    },
    {
      "cell_type": "code",
      "source": [
        "# Define cost map\n",
        "model_costs = {\n",
        "    \"command-light\": {\n",
        "        \"input_tokens\": 0.30,\n",
        "        \"output_tokens\": 0.60,\n",
        "    },\n",
        "    \"command-r\": {\n",
        "        \"input_tokens\": 0.50,\n",
        "        \"output_tokens\": 1.50,\n",
        "    },\n",
        "    \"command-r-plus\": {\n",
        "        \"input_tokens\": 3.00,\n",
        "        \"output_tokens\": 15.00,\n",
        "    },\n",
        "}"
      ],
      "metadata": {
        "id": "cc0P1kBecSSm"
      },
      "execution_count": null,
      "outputs": []
    },
    {
      "cell_type": "code",
      "source": [
        "for model_name, costs in model_costs.items():\n",
        "    num_iterations = 10\n",
        "    total_time = 0\n",
        "    total_output_tokens = 0\n",
        "    total_cost = 0\n",
        "    evaluation_results = []\n",
        "\n",
        "    for i in range(num_iterations):\n",
        "        # Call the model\n",
        "        start = time.time()\n",
        "        response = call_cohere(message, model_name=model_name)\n",
        "        end = time.time()\n",
        "\n",
        "        # Evaluate the result\n",
        "        evaulation_result = evaluate_result(\n",
        "            task=message,\n",
        "            extracted_value=response.text,\n",
        "        )\n",
        "        evaluation_results.append(evaulation_result)\n",
        "\n",
        "        # Calculate costs\n",
        "        input_cost = calculate_cost_per_token(costs[\"input_tokens\"])\n",
        "        output_cost = calculate_cost_per_token(costs[\"output_tokens\"])\n",
        "        input_tokens = response.meta[\"billed_units\"][\"input_tokens\"]\n",
        "        output_tokens = response.meta[\"billed_units\"][\"output_tokens\"]\n",
        "        iteration_cost = (input_tokens * input_cost) + (output_tokens * output_cost)\n",
        "\n",
        "        # Calculate time\n",
        "        iteration_time = end - start\n",
        "\n",
        "        # Calculate totals\n",
        "        total_time += iteration_time\n",
        "        total_output_tokens += output_tokens\n",
        "        total_cost += iteration_cost\n",
        "\n",
        "        # Prevent rate limiting\n",
        "        time.sleep(1)\n",
        "\n",
        "    avg_tokens_per_second = total_output_tokens / total_time\n",
        "    avg_cost = total_cost / num_iterations\n",
        "\n",
        "    print(f\"Model: {model_name}\")\n",
        "    print(f\"Average tokens per second: {avg_tokens_per_second:.2f}\")\n",
        "    print(f\"Average total cost: ${avg_cost:.5f}\")\n",
        "    print(f\"Evaluation results: {evaluation_results}\")\n",
        "    print()"
      ],
      "metadata": {
        "id": "O-CIPDXAcQ3o"
      },
      "execution_count": null,
      "outputs": []
    },
    {
      "cell_type": "markdown",
      "source": [
        "# Mistral"
      ],
      "metadata": {
        "id": "vmfcSgY0CYGY"
      }
    },
    {
      "cell_type": "code",
      "source": [
        "!pip install -U -q mistralai"
      ],
      "metadata": {
        "id": "X0ZlhHwUgkuv"
      },
      "execution_count": null,
      "outputs": []
    },
    {
      "cell_type": "code",
      "source": [
        "# Set your Mistral API key\n",
        "os.environ[\"MISTRAL_API_KEY\"] = getpass.getpass()"
      ],
      "metadata": {
        "id": "LRY4UnH1ZZDt"
      },
      "execution_count": null,
      "outputs": []
    },
    {
      "cell_type": "code",
      "source": [
        "from mistralai.client import MistralClient\n",
        "from mistralai.models.chat_completion import ChatMessage\n",
        "\n",
        "client = MistralClient(api_key=os.environ[\"MISTRAL_API_KEY\"])\n",
        "\n",
        "def call_mistral(query: str, model_name: str) -> str:\n",
        "  return client.chat(\n",
        "      model=model_name,\n",
        "      max_tokens=1000,\n",
        "      temperature=0.0,\n",
        "      messages=[\n",
        "        ChatMessage(role=\"user\", content=query)\n",
        "      ]\n",
        "  )"
      ],
      "metadata": {
        "id": "hfxXZaE4CZnE"
      },
      "execution_count": null,
      "outputs": []
    },
    {
      "cell_type": "code",
      "source": [
        "# Define cost map\n",
        "model_costs = {\n",
        "    \"mistral-small-2312\": {\n",
        "        \"input_tokens\": 0.70,\n",
        "        \"output_tokens\": 0.70,\n",
        "    },\n",
        "    \"mistral-large-2402\": {\n",
        "        \"input_tokens\": 8.00,\n",
        "        \"output_tokens\": 24.00,\n",
        "    },\n",
        "}"
      ],
      "metadata": {
        "id": "v2WVr_XjhCkZ"
      },
      "execution_count": null,
      "outputs": []
    },
    {
      "cell_type": "code",
      "source": [
        "for model_name, costs in model_costs.items():\n",
        "    num_iterations = 10\n",
        "    total_time = 0\n",
        "    total_tokens_per_second = 0\n",
        "    total_cost = 0\n",
        "    evaluation_results = []\n",
        "\n",
        "    for i in range(num_iterations):\n",
        "        # Call the model\n",
        "        start = time.time()\n",
        "        response = call_mistral(message, model_name=model_name)\n",
        "        end = time.time()\n",
        "\n",
        "        # Evaluate the result\n",
        "        evaulation_result = evaluate_result(\n",
        "            task=message,\n",
        "            extracted_value=response.choices[0].message.content,\n",
        "        )\n",
        "        evaluation_results.append(evaulation_result)\n",
        "\n",
        "        # Calculate costs\n",
        "        input_cost = calculate_cost_per_token(costs[\"input_tokens\"])\n",
        "        output_cost = calculate_cost_per_token(costs[\"output_tokens\"])\n",
        "        input_tokens = response.usage.prompt_tokens\n",
        "        output_tokens = response.usage.completion_tokens\n",
        "        iteration_cost = (input_tokens * input_cost) + (output_tokens * output_cost)\n",
        "\n",
        "        # Calculate time\n",
        "        iteration_time = end - start\n",
        "\n",
        "        # Calculate totals\n",
        "        total_time += iteration_time\n",
        "        total_output_tokens += output_tokens\n",
        "        total_cost += iteration_cost\n",
        "\n",
        "        # Prevent rate limiting\n",
        "        time.sleep(1)\n",
        "\n",
        "    avg_tokens_per_second = total_output_tokens / total_time\n",
        "    avg_cost = total_cost / num_iterations\n",
        "\n",
        "    print(f\"Model: {model_name}\")\n",
        "    print(f\"Average tokens per second: {avg_tokens_per_second:.2f}\")\n",
        "    print(f\"Average total cost: ${avg_cost:.5f}\")\n",
        "    print(f\"Evaluation results: {evaluation_results}\")\n",
        "    print()"
      ],
      "metadata": {
        "id": "bPBEhXPzhQnU"
      },
      "execution_count": null,
      "outputs": []
    },
    {
      "cell_type": "markdown",
      "source": [
        "# OpenAI"
      ],
      "metadata": {
        "id": "7rYyonhICaKA"
      }
    },
    {
      "cell_type": "code",
      "source": [
        "!pip install -U -q openai"
      ],
      "metadata": {
        "id": "IhrEiso7CawL"
      },
      "execution_count": null,
      "outputs": []
    },
    {
      "cell_type": "code",
      "source": [
        "os.environ[\"OPENAI_API_KEY\"] = getpass.getpass()"
      ],
      "metadata": {
        "id": "--ezz5Dvh7jt"
      },
      "execution_count": null,
      "outputs": []
    },
    {
      "cell_type": "code",
      "source": [
        "from openai import OpenAI\n",
        "\n",
        "client = OpenAI(api_key=os.environ[\"OPENAI_API_KEY\"])\n",
        "\n",
        "def call_openai(query: str, model_name: str) -> str:\n",
        "  return client.chat.completions.create(\n",
        "      model=model_name,\n",
        "      temperature=0,\n",
        "      max_tokens=1000,\n",
        "      messages=[\n",
        "          {\"role\": \"user\", \"content\": query},\n",
        "      ]\n",
        "  )"
      ],
      "metadata": {
        "id": "UyBwlTUzhpdD"
      },
      "execution_count": null,
      "outputs": []
    },
    {
      "cell_type": "code",
      "source": [
        "# Define cost map\n",
        "model_costs = {\n",
        "    \"gpt-3.5-turbo-0125\": {\n",
        "        \"input_tokens\": 0.50,\n",
        "        \"output_tokens\": 1.50,\n",
        "    },\n",
        "    \"gpt-4-0125-preview\": {\n",
        "        \"input_tokens\": 10.00,\n",
        "        \"output_tokens\": 30.00,\n",
        "    },\n",
        "}"
      ],
      "metadata": {
        "id": "itrUZYEeioy1"
      },
      "execution_count": null,
      "outputs": []
    },
    {
      "cell_type": "code",
      "source": [
        "for model_name, costs in model_costs.items():\n",
        "    num_iterations = 10\n",
        "    total_time = 0\n",
        "    total_output_tokens = 0\n",
        "    total_cost = 0\n",
        "    evaluation_results = []\n",
        "\n",
        "    for i in range(num_iterations):\n",
        "        # Call the model\n",
        "        start = time.time()\n",
        "        response = call_openai(message, model_name=model_name)\n",
        "        end = time.time()\n",
        "\n",
        "        print(response.choices[0].message.content)\n",
        "\n",
        "        # Evaluate the result\n",
        "        evaulation_result = evaluate_result(\n",
        "            task=message,\n",
        "            extracted_value=response.choices[0].message.content,\n",
        "        )\n",
        "        evaluation_results.append(evaulation_result)\n",
        "\n",
        "        # Calculate costs\n",
        "        input_cost = calculate_cost_per_token(costs[\"input_tokens\"])\n",
        "        output_cost = calculate_cost_per_token(costs[\"output_tokens\"])\n",
        "        input_tokens = response.usage.prompt_tokens\n",
        "        output_tokens = response.usage.completion_tokens\n",
        "        iteration_cost = (input_tokens * input_cost) + (output_tokens * output_cost)\n",
        "\n",
        "        # Calculate time\n",
        "        iteration_time = end - start\n",
        "\n",
        "        # Calculate totals\n",
        "        total_time += iteration_time\n",
        "        total_output_tokens += output_tokens\n",
        "        total_cost += iteration_cost\n",
        "\n",
        "        # Prevent rate limiting\n",
        "        time.sleep(1)\n",
        "\n",
        "    avg_tokens_per_second = total_output_tokens / total_time\n",
        "    avg_cost = total_cost / num_iterations\n",
        "\n",
        "    print(f\"Model: {model_name}\")\n",
        "    print(f\"Average tokens per second: {avg_tokens_per_second:.2f}\")\n",
        "    print(f\"Average total cost: ${avg_cost:.5f}\")\n",
        "    print(f\"Evaluation results: {evaluation_results}\")\n",
        "    print()"
      ],
      "metadata": {
        "id": "c4qQHBnLimLl"
      },
      "execution_count": null,
      "outputs": []
    },
    {
      "cell_type": "markdown",
      "source": [
        "# Gemini"
      ],
      "metadata": {
        "id": "W-5MGB7L-DOU"
      }
    },
    {
      "cell_type": "code",
      "source": [
        "!pip install -U -q google-generativeai google-cloud-aiplatform"
      ],
      "metadata": {
        "id": "xqtwy1bu-DOe"
      },
      "execution_count": null,
      "outputs": []
    },
    {
      "cell_type": "code",
      "source": [
        "os.environ[\"GEMINI_API_KEY\"] = getpass.getpass()"
      ],
      "metadata": {
        "id": "3Ki6I6j5-DOe"
      },
      "execution_count": null,
      "outputs": []
    },
    {
      "cell_type": "code",
      "source": [
        "import google.generativeai as genai\n",
        "\n",
        "genai.configure(api_key=os.environ['GEMINI_API_KEY'])\n",
        "\n",
        "def call_gemini(query: str, model: genai.GenerativeModel) -> str:\n",
        "  return model.generate_content(message)"
      ],
      "metadata": {
        "id": "1A5RO8TK-DOe"
      },
      "execution_count": null,
      "outputs": []
    },
    {
      "cell_type": "code",
      "source": [
        "# Define cost map\n",
        "model_costs = {\n",
        "    \"gemini-1.0-pro\": {\n",
        "        \"input_tokens\": 0.50,\n",
        "        \"output_tokens\": 1.50,\n",
        "    },\n",
        "    \"gemini-1.5-pro-latest\": {\n",
        "        \"input_tokens\": 7.00,\n",
        "        \"output_tokens\": 21.00,\n",
        "    },\n",
        "}"
      ],
      "metadata": {
        "id": "xp92e1Jd-DOf"
      },
      "execution_count": null,
      "outputs": []
    },
    {
      "cell_type": "code",
      "source": [
        "for model_name, costs in model_costs.items():\n",
        "    num_iterations = 10\n",
        "    total_time = 0\n",
        "    total_output_tokens = 0\n",
        "    total_cost = 0\n",
        "    evaluation_results = []\n",
        "\n",
        "    for i in range(num_iterations):\n",
        "        gemini = genai.GenerativeModel(model_name)\n",
        "\n",
        "        # Call the model\n",
        "        start = time.time()\n",
        "        response = call_gemini(message, model=gemini)\n",
        "        end = time.time()\n",
        "\n",
        "        # Evaluate the result\n",
        "        result = response.candidates[0].content\n",
        "\n",
        "        print(result)\n",
        "        evaulation_result = evaluate_result(\n",
        "            task=message,\n",
        "            extracted_value=result,\n",
        "        )\n",
        "        evaluation_results.append(evaulation_result)\n",
        "\n",
        "        # Calculate costs\n",
        "        input_cost = calculate_cost_per_token(costs[\"input_tokens\"])\n",
        "        output_cost = calculate_cost_per_token(costs[\"output_tokens\"])\n",
        "        input_tokens = float(gemini.count_tokens(message).total_tokens)\n",
        "        output_tokens = float(gemini.count_tokens(result).total_tokens)\n",
        "        iteration_cost = (input_tokens * input_cost) + (output_tokens * output_cost)\n",
        "\n",
        "        # Calculate time\n",
        "        iteration_time = end - start\n",
        "\n",
        "        # Calculate totals\n",
        "        total_time += iteration_time\n",
        "        total_output_tokens += output_tokens\n",
        "        total_cost += iteration_cost\n",
        "\n",
        "        # Prevent rate limiting\n",
        "        time.sleep(1)\n",
        "\n",
        "    avg_tokens_per_second = total_output_tokens / total_time\n",
        "    avg_cost = total_cost / num_iterations\n",
        "\n",
        "    print(f\"Model: {model_name}\")\n",
        "    print(f\"Average tokens per second: {avg_tokens_per_second:.2f}\")\n",
        "    print(f\"Average total cost: ${avg_cost:.5f}\")\n",
        "    print(f\"Evaluation results: {evaluation_results}\")\n",
        "    print()"
      ],
      "metadata": {
        "id": "p378iU1N-DOf"
      },
      "execution_count": null,
      "outputs": []
    },
    {
      "cell_type": "code",
      "source": [],
      "metadata": {
        "id": "A1qONXb--DOf"
      },
      "execution_count": null,
      "outputs": []
    }
  ]
}