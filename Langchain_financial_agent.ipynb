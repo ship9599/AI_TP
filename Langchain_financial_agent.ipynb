{
  "nbformat": 4,
  "nbformat_minor": 0,
  "metadata": {
    "colab": {
      "provenance": [],
      "include_colab_link": true
    },
    "kernelspec": {
      "name": "python3",
      "display_name": "Python 3"
    },
    "language_info": {
      "name": "python"
    }
  },
  "cells": [
    {
      "cell_type": "markdown",
      "metadata": {
        "id": "view-in-github",
        "colab_type": "text"
      },
      "source": [
        "<a href=\"https://colab.research.google.com/github/ship9599/AI_TP/blob/main/Langchain_financial_agent.ipynb\" target=\"_parent\"><img src=\"https://colab.research.google.com/assets/colab-badge.svg\" alt=\"Open In Colab\"/></a>"
      ]
    },
    {
      "cell_type": "markdown",
      "source": [
        "**Disclaimer**: This agent is not intended as financial advice.  It is for informational and entertainment purposes only.  Do your own due diligence."
      ],
      "metadata": {
        "id": "1RV4aPVE3ecA"
      }
    },
    {
      "cell_type": "code",
      "execution_count": null,
      "metadata": {
        "id": "GcvSoNAmVbXH"
      },
      "outputs": [],
      "source": [
        "!pip install -U -q langgraph langchain langchain_openai langchainhub polygon-api-client"
      ]
    },
    {
      "cell_type": "code",
      "source": [
        "import getpass\n",
        "import os\n",
        "\n",
        "# Set your OpenAI API key\n",
        "os.environ[\"OPENAI_API_KEY\"] = getpass.getpass()"
      ],
      "metadata": {
        "id": "aw9453mxY2GZ"
      },
      "execution_count": null,
      "outputs": []
    },
    {
      "cell_type": "code",
      "source": [
        "# You can get an API key here https://polygon.io/\n",
        "os.environ[\"POLYGON_API_KEY\"] = getpass.getpass()"
      ],
      "metadata": {
        "id": "wLgG34qXylsg"
      },
      "execution_count": null,
      "outputs": []
    },
    {
      "cell_type": "markdown",
      "source": [
        "# Define the tools our agent can use"
      ],
      "metadata": {
        "id": "bqtPnq2Q7LKA"
      }
    },
    {
      "cell_type": "code",
      "source": [
        "from langchain.tools import tool\n",
        "\n",
        "\n",
        "@tool\n",
        "def roe(\n",
        "    net_income: float,\n",
        "    equity: float,\n",
        ") -> float:\n",
        "    \"\"\"\n",
        "    Computes the return on equity (ROE) for a given company.\n",
        "    Use this function to evaluate the profitability of a company.\n",
        "    \"\"\"\n",
        "    return net_income / equity\n",
        "\n",
        "\n",
        "@tool\n",
        "def roic(\n",
        "    operating_income: float,\n",
        "    total_debt: float,\n",
        "    equity: float,\n",
        "    cash_and_equivalents: float,\n",
        "    tax_rate: float = 0.35,\n",
        ") -> float:\n",
        "    \"\"\"\n",
        "    Computes the return on invested capital (ROIC) for a given company.\n",
        "    Use this function to evaluate the efficiency of a company in generating returns from its capital.\n",
        "    \"\"\"\n",
        "    net_operating_profit_after_tax = operating_income * (1 - tax_rate)\n",
        "    invested_capital = total_debt + equity - cash_and_equivalents\n",
        "    return net_operating_profit_after_tax / invested_capital\n",
        "\n",
        "\n",
        "@tool\n",
        "def owner_earnings(\n",
        "    net_income: float,\n",
        "    depreciation_amortization: float = 0.0,\n",
        "    capital_expenditures: float = 0.0\n",
        "):\n",
        "    \"\"\"\n",
        "    Calculates the owner earnings for a company based on the net income, depreciation/amortization, and capital expenditures.\n",
        "    \"\"\"\n",
        "    return net_income + depreciation_amortization - capital_expenditures\n",
        "\n",
        "\n",
        "@tool\n",
        "def discounted_cash_flow(\n",
        "    free_cash_flow: float,\n",
        "    growth_rate: float = 0.05,\n",
        "    discount_rate: float = 0.10,\n",
        "    terminal_growth_rate: float = 0.02,\n",
        "    num_years: int = 5,\n",
        ") -> float:\n",
        "    \"\"\"\n",
        "    Computes the discounted cash flow (DCF) for a given company based on the current free cash flow.\n",
        "    Use this function to calculate the intrinsic value of a stock.\n",
        "    \"\"\"\n",
        "    # Estimate the future cash flows based on the growth rate\n",
        "    cash_flows = [free_cash_flow * (1 + growth_rate) ** i for i in range(num_years)]\n",
        "\n",
        "    # Calculate the present value of projected cash flows\n",
        "    present_values = []\n",
        "    for i in range(num_years):\n",
        "        present_value = cash_flows[i] / (1 + discount_rate) ** (i + 1)\n",
        "        present_values.append(present_value)\n",
        "\n",
        "    # Calculate the terminal value\n",
        "    terminal_value = cash_flows[-1] * (1 + terminal_growth_rate) / (discount_rate - terminal_growth_rate)\n",
        "    terminal_present_value = terminal_value / (1 + discount_rate) ** num_years\n",
        "\n",
        "    # Sum up the present values and terminal value\n",
        "    dcf_value = sum(present_values) + terminal_present_value\n",
        "\n",
        "    return dcf_value"
      ],
      "metadata": {
        "id": "inc3sZdzsmQ-"
      },
      "execution_count": null,
      "outputs": []
    },
    {
      "cell_type": "code",
      "source": [
        "from langchain.agents import load_tools\n",
        "from langgraph.prebuilt import ToolExecutor\n",
        "from langchain_community.tools import PolygonLastQuote, PolygonTickerNews, PolygonFinancials, PolygonAggregates\n",
        "from langchain_community.utilities.polygon import PolygonAPIWrapper\n",
        "\n",
        "# Create the tools\n",
        "polygon = PolygonAPIWrapper()\n",
        "integration_tools = [\n",
        "    PolygonLastQuote(api_wrapper=polygon),\n",
        "    PolygonTickerNews(api_wrapper=polygon),\n",
        "    PolygonFinancials(api_wrapper=polygon),\n",
        "    PolygonAggregates(api_wrapper=polygon),\n",
        "]\n",
        "\n",
        "local_tools = [discounted_cash_flow, roe, roic, owner_earnings]\n",
        "tools = integration_tools + local_tools\n",
        "\n",
        "tool_executor = ToolExecutor(tools)"
      ],
      "metadata": {
        "id": "mczr2sUEVdYv"
      },
      "execution_count": null,
      "outputs": []
    },
    {
      "cell_type": "markdown",
      "source": [
        "# Set up the LLM"
      ],
      "metadata": {
        "id": "ABtfJlkWWs_9"
      }
    },
    {
      "cell_type": "code",
      "source": [
        "from langchain.tools.render import format_tool_to_openai_function\n",
        "from langchain_openai.chat_models import ChatOpenAI\n",
        "\n",
        "# Choose the LLM that will drive the agent\n",
        "model = ChatOpenAI(model=\"gpt-4-0125-preview\", streaming=True)\n",
        "\n",
        "# Bind the functions\n",
        "functions = [format_tool_to_openai_function(t) for t in tools]\n",
        "model = model.bind_functions(functions)"
      ],
      "metadata": {
        "id": "1Z05n9jgXB02"
      },
      "execution_count": null,
      "outputs": []
    },
    {
      "cell_type": "markdown",
      "source": [
        "# Define the agent state"
      ],
      "metadata": {
        "id": "-1QmeRXMXOpk"
      }
    },
    {
      "cell_type": "code",
      "source": [
        "from typing import TypedDict, Annotated, Sequence\n",
        "import operator\n",
        "from langchain_core.messages import BaseMessage\n",
        "\n",
        "class AgentState(TypedDict):\n",
        "    messages: Annotated[Sequence[BaseMessage], operator.add]"
      ],
      "metadata": {
        "id": "pdiItye3XRnC"
      },
      "execution_count": null,
      "outputs": []
    },
    {
      "cell_type": "markdown",
      "source": [
        "# Define the nodes"
      ],
      "metadata": {
        "id": "Nkx5fvUE7Hjz"
      }
    },
    {
      "cell_type": "code",
      "source": [
        "from langgraph.prebuilt import ToolInvocation\n",
        "import json\n",
        "from langchain_core.messages import FunctionMessage\n",
        "\n",
        "# Define the function that determines whether to continue or not\n",
        "def should_continue(state):\n",
        "    messages = state['messages']\n",
        "    last_message = messages[-1]\n",
        "    # If there is no function call, then we finish\n",
        "    if \"function_call\" not in last_message.additional_kwargs:\n",
        "        return \"end\"\n",
        "    # Otherwise if there is, we continue\n",
        "    else:\n",
        "        return \"continue\"\n",
        "\n",
        "# Define the function that calls the model\n",
        "def call_model(state):\n",
        "    messages = state['messages']\n",
        "    response = model.invoke(messages)\n",
        "    # We return a list, because this will get added to the existing list\n",
        "    return {\"messages\": [response]}\n",
        "\n",
        "# Define the function to execute tools\n",
        "def call_tool(state):\n",
        "    messages = state['messages']\n",
        "    # Based on the continue condition\n",
        "    # we know the last message involves a function call\n",
        "    last_message = messages[-1]\n",
        "    # We construct an ToolInvocation from the function_call\n",
        "    action = ToolInvocation(\n",
        "        tool=last_message.additional_kwargs[\"function_call\"][\"name\"],\n",
        "        tool_input=json.loads(last_message.additional_kwargs[\"function_call\"][\"arguments\"]),\n",
        "    )\n",
        "    # We call the tool_executor and get back a response\n",
        "    response = tool_executor.invoke(action)\n",
        "    # We use the response to create a FunctionMessage\n",
        "    function_message = FunctionMessage(content=str(response), name=action.tool)\n",
        "    # We return a list, because this will get added to the existing list\n",
        "    return {\"messages\": [function_message]}"
      ],
      "metadata": {
        "id": "nTW70qJEV6-A"
      },
      "execution_count": null,
      "outputs": []
    },
    {
      "cell_type": "markdown",
      "source": [
        "# Define the graph"
      ],
      "metadata": {
        "id": "WslINdsq7FWq"
      }
    },
    {
      "cell_type": "code",
      "source": [
        "from langgraph.graph import StateGraph, END\n",
        "\n",
        "# Define a new graph\n",
        "workflow = StateGraph(AgentState)\n",
        "\n",
        "# Define the two nodes we will cycle between\n",
        "workflow.add_node(\"agent\", call_model)\n",
        "workflow.add_node(\"action\", call_tool)\n",
        "\n",
        "# Set the entrypoint as `agent`\n",
        "# This means that this node is the first one called\n",
        "workflow.set_entry_point(\"agent\")\n",
        "\n",
        "# We now add a conditional edge\n",
        "workflow.add_conditional_edges(\n",
        "    # First, we define the start node. We use `agent`.\n",
        "    \"agent\",\n",
        "    # Next, we pass in the function that will determine which node is called next.\n",
        "    should_continue,\n",
        "    # END is a special node marking that the graph should finish.\n",
        "    {\n",
        "        # If `tools`, then we call the tool node.\n",
        "        \"continue\": \"action\",\n",
        "        # Otherwise we finish.\n",
        "        \"end\": END\n",
        "    }\n",
        ")\n",
        "\n",
        "# We now add a normal edge from `tools` to `agent`.\n",
        "workflow.add_edge('action', 'agent')\n",
        "\n",
        "# Finally, we compile it!\n",
        "app = workflow.compile()"
      ],
      "metadata": {
        "id": "xK5euZ6UWAhq"
      },
      "execution_count": null,
      "outputs": []
    },
    {
      "cell_type": "markdown",
      "source": [
        "# Run the agent"
      ],
      "metadata": {
        "id": "EQOLvjF7XvZR"
      }
    },
    {
      "cell_type": "code",
      "source": [
        "from langchain_core.messages import HumanMessage\n",
        "\n",
        "input = {\"messages\": [HumanMessage(content=\"What is the intrinsic value of NVDA?\")]}\n",
        "output = app.invoke(input)"
      ],
      "metadata": {
        "id": "kBwr25yAWDVB",
        "colab": {
          "base_uri": "https://localhost:8080/",
          "height": 17
        },
        "outputId": "589dcaa0-18f4-4a0f-9f97-9a8771831a89"
      },
      "execution_count": null,
      "outputs": [
        {
          "output_type": "display_data",
          "data": {
            "text/plain": [
              "<IPython.core.display.HTML object>"
            ],
            "text/html": [
              "\n",
              "  <style>\n",
              "    pre {\n",
              "        white-space: pre-wrap;\n",
              "    }\n",
              "  </style>\n",
              "  "
            ]
          },
          "metadata": {}
        }
      ]
    },
    {
      "cell_type": "code",
      "source": [
        "print(output[\"messages\"][-1].content)"
      ],
      "metadata": {
        "id": "m5V2i9OU01xH",
        "colab": {
          "base_uri": "https://localhost:8080/",
          "height": 106
        },
        "outputId": "1c54165c-581f-4bed-d9f1-e95238c29ee4"
      },
      "execution_count": null,
      "outputs": [
        {
          "output_type": "display_data",
          "data": {
            "text/plain": [
              "<IPython.core.display.HTML object>"
            ],
            "text/html": [
              "\n",
              "  <style>\n",
              "    pre {\n",
              "        white-space: pre-wrap;\n",
              "    }\n",
              "  </style>\n",
              "  "
            ]
          },
          "metadata": {}
        },
        {
          "output_type": "stream",
          "name": "stdout",
          "text": [
            "The intrinsic value of NVIDIA Corporation (NVDA), based on the discounted cash flow (DCF) model with the assumptions of a 12% growth rate for the first 10 years, a discount rate of 10%, and a terminal growth rate of 4%, is approximately $797.86 billion. \n",
            "\n",
            "Please note that the intrinsic value calculation is based on certain assumptions and growth rates, which may not accurately predict future performance. It's essential to consider other factors and conduct a comprehensive analysis before making investment decisions.\n"
          ]
        }
      ]
    }
  ]
}